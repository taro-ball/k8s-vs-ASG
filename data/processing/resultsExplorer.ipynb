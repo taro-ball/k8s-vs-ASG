{
 "cells": [
  {
   "cell_type": "code",
   "execution_count": 62,
   "metadata": {},
   "outputs": [],
   "source": [
    "from pathlib import Path\n",
    "from IPython.display import HTML, display\n",
    "import ipywidgets as widgets\n",
    "import datetime\n",
    "import pandas as pd\n",
    "import numpy as np\n",
    "#print(Path.cwd().parent.parent.parent)\n",
    "base_path = Path.cwd().parent.parent.parent / \"runs\"\n",
    "#img_path = Path.cwd() / \"img.jpg\"\n",
    "# display(Image(filename=img_path))\n",
    "p = Path(base_path)\n",
    "#p.as_uri()"
   ]
  },
  {
   "cell_type": "code",
   "execution_count": 63,
   "metadata": {
    "collapsed": true
   },
   "outputs": [
    {
     "data": {
      "application/vnd.jupyter.widget-view+json": {
       "model_id": "13acc43d37fb4c62a88e682a0840eade",
       "version_major": 2,
       "version_minor": 0
      },
      "text/plain": [
       "HBox(children=(Text(value='2022.0[3-9]', description='Filter'), Checkbox(value=True, description='All'), Dropd…"
      ]
     },
     "metadata": {},
     "output_type": "display_data"
    }
   ],
   "source": [
    "test = widgets.Dropdown(\n",
    "       options=[\"k8s_taewa_3lite_\",\"asg_taewa_3lite_\", \"k8s_apache_3_\", \"k8s_taewa_3_\", \"asg_apache_3_\", \"asg_taewa_3_\"],\n",
    "       value='k8s_apache_3_',\n",
    "       description='Test:')\n",
    "all = widgets.Checkbox(value=True,\n",
    "       description='All')\n",
    "graphs=[\"QPS_estimatedProcessedBytes.png\",\"QPS_cpuUtilization.png\",\"QPS_groupInServiceCapacity.png\"]\n",
    "date_filter = widgets.Text(\n",
    "       value='2022.0[3-9]', # use glob pattern http://pymotw.com/2/glob/\n",
    "       description='Filter', )\n",
    "box = widgets.HBox([date_filter, all, test ])\n",
    "display(box)"
   ]
  },
  {
   "cell_type": "code",
   "execution_count": 64,
   "metadata": {},
   "outputs": [
    {
     "data": {
      "text/html": [
       "<head><title>k8s_taewa_3lite_</title><style>table, th, td {border: 1px solid black;} body {font: 17px Arial, sans-serif;}</style></head>date: 2022-04-18 09:50:56.962803<br><h2>k8s_taewa_3lite_</h2><br><a href='o_asg_apache_3_.html'>o_asg_apache_3_.html</a>&nbsp;|&nbsp;<a href='o_asg_taewa_3lite_.html'>o_asg_taewa_3lite_.html</a>&nbsp;|&nbsp;<a href='o_asg_taewa_3_.html'>o_asg_taewa_3_.html</a>&nbsp;|&nbsp;<a href='o_k8s_apache_3_.html'>o_k8s_apache_3_.html</a>&nbsp;|&nbsp;><a href='o_k8s_taewa_3lite_.html'>o_k8s_taewa_3lite_.html</a>&nbsp;|&nbsp;<a href='o_k8s_taewa_3_.html'>o_k8s_taewa_3_.html</a>&nbsp;|&nbsp;<table><td></td><td></td><td></td>\n",
       "        <td>max:<br>321<br>min:<br>215<br>mean:<br>280<br></td>\n",
       "        <td>max:<br>53731<br>min:<br>44580<br>mean:<br>50328<br></td>\n",
       "        <td>max:<br>99<br>min:<br>89<br>mean:<br>97<br></td><tr><td rowspan='1'>1:  <a href='2022.03.26_08-14_k8s_taewa_3lite_9d2d'>2022.03.26_08-14_k8s_taewa_3lite_9d2d</a> </td></tr><tr><td>column1</td><td>column2</td><td>column3</td><td>Dura-tion s</td><td>QPS</td><td>CPU %</td></tr><tr><td><img alt='QPS_estimatedProcessedBytes.png' src='2022.03.26_08-14_k8s_taewa_3lite_9d2d/csv/QPS_estimatedProcessedBytes.png' /></td><td><img alt='QPS_cpuUtilization.png' src='2022.03.26_08-14_k8s_taewa_3lite_9d2d/csv/QPS_cpuUtilization.png' /></td><td><img alt='QPS_groupInServiceCapacity.png' src='2022.03.26_08-14_k8s_taewa_3lite_9d2d/csv/QPS_groupInServiceCapacity.png' /></td><td>[272, 319, 366]<br><b>319</b></td><td>[49010, 44059, 44789]<br><b>45953</td><td>[93, 94, 95]<br><b>94</b></td></tr><tr><td rowspan='1'>2:  <a href='2022.03.27_09-43_k8s_taewa_3lite_0c47'>2022.03.27_09-43_k8s_taewa_3lite_0c47</a> </td></tr><tr><td>column1</td><td>column2</td><td>column3</td><td>Dura-tion s</td><td>QPS</td><td>CPU %</td></tr><tr><td><img alt='QPS_estimatedProcessedBytes.png' src='2022.03.27_09-43_k8s_taewa_3lite_0c47/csv/QPS_estimatedProcessedBytes.png' /></td><td><img alt='QPS_cpuUtilization.png' src='2022.03.27_09-43_k8s_taewa_3lite_0c47/csv/QPS_cpuUtilization.png' /></td><td><img alt='QPS_groupInServiceCapacity.png' src='2022.03.27_09-43_k8s_taewa_3lite_0c47/csv/QPS_groupInServiceCapacity.png' /></td><td>[291, 243, 207]<br><b>247</b></td><td>[53164, 52620, 54277]<br><b>53354</td><td>[99, 99, 99]<br><b>99</b></td></tr><tr><td rowspan='1'>3:  <a href='2022.03.31_23-04_k8s_taewa_3lite_41cf'>2022.03.31_23-04_k8s_taewa_3lite_41cf</a> </td></tr><tr><td>column1</td><td>column2</td><td>column3</td><td>Dura-tion s</td><td>QPS</td><td>CPU %</td></tr><tr><td><img alt='QPS_estimatedProcessedBytes.png' src='2022.03.31_23-04_k8s_taewa_3lite_41cf/csv/QPS_estimatedProcessedBytes.png' /></td><td><img alt='QPS_cpuUtilization.png' src='2022.03.31_23-04_k8s_taewa_3lite_41cf/csv/QPS_cpuUtilization.png' /></td><td><img alt='QPS_groupInServiceCapacity.png' src='2022.03.31_23-04_k8s_taewa_3lite_41cf/csv/QPS_groupInServiceCapacity.png' /></td><td>[232, 287, 244]<br><b>255</b></td><td>[53358, 53331, 54504]<br><b>53731</td><td>[99, 98, 99]<br><b>99</b></td></tr><tr><td rowspan='1'>4:  <a href='2022.04.01_08-53_k8s_taewa_3lite_41cf'>2022.04.01_08-53_k8s_taewa_3lite_41cf</a> </td></tr><tr><td>column1</td><td>column2</td><td>column3</td><td>Dura-tion s</td><td>QPS</td><td>CPU %</td></tr><tr><td><img alt='QPS_estimatedProcessedBytes.png' src='2022.04.01_08-53_k8s_taewa_3lite_41cf/csv/QPS_estimatedProcessedBytes.png' /></td><td><img alt='QPS_cpuUtilization.png' src='2022.04.01_08-53_k8s_taewa_3lite_41cf/csv/QPS_cpuUtilization.png' /></td><td><img alt='QPS_groupInServiceCapacity.png' src='2022.04.01_08-53_k8s_taewa_3lite_41cf/csv/QPS_groupInServiceCapacity.png' /></td><td>[223, 158, 264]<br><b>215</b></td><td>[52418, 52285, 53747]<br><b>52817</td><td>[99, 99, 99]<br><b>99</b></td></tr><tr><td rowspan='1'>5:  <a href='2022.04.01_21-08_k8s_taewa_3lite_41cf'>2022.04.01_21-08_k8s_taewa_3lite_41cf</a> </td></tr><tr><td>column1</td><td>column2</td><td>column3</td><td>Dura-tion s</td><td>QPS</td><td>CPU %</td></tr><tr><td><img alt='QPS_estimatedProcessedBytes.png' src='2022.04.01_21-08_k8s_taewa_3lite_41cf/csv/QPS_estimatedProcessedBytes.png' /></td><td><img alt='QPS_cpuUtilization.png' src='2022.04.01_21-08_k8s_taewa_3lite_41cf/csv/QPS_cpuUtilization.png' /></td><td><img alt='QPS_groupInServiceCapacity.png' src='2022.04.01_21-08_k8s_taewa_3lite_41cf/csv/QPS_groupInServiceCapacity.png' /></td><td>[273, 238, 290]<br><b>267</b></td><td>[53864, 51685, 55340]<br><b>53630</td><td>[99, 98, 99]<br><b>99</b></td></tr><tr><td rowspan='1'>6:  <a href='2022.04.02_06-11_k8s_taewa_3lite_41cf'>2022.04.02_06-11_k8s_taewa_3lite_41cf</a> </td></tr><tr><td>column1</td><td>column2</td><td>column3</td><td>Dura-tion s</td><td>QPS</td><td>CPU %</td></tr><tr><td><img alt='QPS_estimatedProcessedBytes.png' src='2022.04.02_06-11_k8s_taewa_3lite_41cf/csv/QPS_estimatedProcessedBytes.png' /></td><td><img alt='QPS_cpuUtilization.png' src='2022.04.02_06-11_k8s_taewa_3lite_41cf/csv/QPS_cpuUtilization.png' /></td><td><img alt='QPS_groupInServiceCapacity.png' src='2022.04.02_06-11_k8s_taewa_3lite_41cf/csv/QPS_groupInServiceCapacity.png' /></td><td>[348, 290, 288]<br><b>309</b></td><td>[45885, 45816, 43717]<br><b>45140</td><td>[97, 96, 95]<br><b>97</b></td></tr><tr><td rowspan='1'>7:  <a href='2022.04.03_09-53_k8s_taewa_3lite_41cf'>2022.04.03_09-53_k8s_taewa_3lite_41cf</a> </td></tr><tr><td>column1</td><td>column2</td><td>column3</td><td>Dura-tion s</td><td>QPS</td><td>CPU %</td></tr><tr><td><img alt='QPS_estimatedProcessedBytes.png' src='2022.04.03_09-53_k8s_taewa_3lite_41cf/csv/QPS_estimatedProcessedBytes.png' /></td><td><img alt='QPS_cpuUtilization.png' src='2022.04.03_09-53_k8s_taewa_3lite_41cf/csv/QPS_cpuUtilization.png' /></td><td><img alt='QPS_groupInServiceCapacity.png' src='2022.04.03_09-53_k8s_taewa_3lite_41cf/csv/QPS_groupInServiceCapacity.png' /></td><td>[299, 378, 190]<br><b>289</b></td><td>[54086, 54709, 51521]<br><b>53439</td><td>[99, 98, 96]<br><b>98</b></td></tr><tr><td rowspan='1'>8:  <a href='2022.04.04_03-52_k8s_taewa_3lite_41cf'>2022.04.04_03-52_k8s_taewa_3lite_41cf</a> </td></tr><tr><td>column1</td><td>column2</td><td>column3</td><td>Dura-tion s</td><td>QPS</td><td>CPU %</td></tr><tr><td><img alt='QPS_estimatedProcessedBytes.png' src='2022.04.04_03-52_k8s_taewa_3lite_41cf/csv/QPS_estimatedProcessedBytes.png' /></td><td><img alt='QPS_cpuUtilization.png' src='2022.04.04_03-52_k8s_taewa_3lite_41cf/csv/QPS_cpuUtilization.png' /></td><td><img alt='QPS_groupInServiceCapacity.png' src='2022.04.04_03-52_k8s_taewa_3lite_41cf/csv/QPS_groupInServiceCapacity.png' /></td><td>[310, 274, 318]<br><b>301</b></td><td>[46653, 52155, 51773]<br><b>50194</td><td>[99, 97, 92]<br><b>96</b></td></tr><tr><td rowspan='1'>9:  <a href='2022.04.05_08-07_k8s_taewa_3lite_41cf'>2022.04.05_08-07_k8s_taewa_3lite_41cf</a> </td></tr><tr><td>column1</td><td>column2</td><td>column3</td><td>Dura-tion s</td><td>QPS</td><td>CPU %</td></tr><tr><td><img alt='QPS_estimatedProcessedBytes.png' src='2022.04.05_08-07_k8s_taewa_3lite_41cf/csv/QPS_estimatedProcessedBytes.png' /></td><td><img alt='QPS_cpuUtilization.png' src='2022.04.05_08-07_k8s_taewa_3lite_41cf/csv/QPS_cpuUtilization.png' /></td><td><img alt='QPS_groupInServiceCapacity.png' src='2022.04.05_08-07_k8s_taewa_3lite_41cf/csv/QPS_groupInServiceCapacity.png' /></td><td>[283, 275, 266]<br><b>275</b></td><td>[49037, 52446, 49834]<br><b>50439</td><td>[99, 99, 99]<br><b>99</b></td></tr><tr><td rowspan='1'>10:  <a href='2022.04.05_19-47_k8s_taewa_3lite_41cf'>2022.04.05_19-47_k8s_taewa_3lite_41cf</a> </td></tr><tr><td>column1</td><td>column2</td><td>column3</td><td>Dura-tion s</td><td>QPS</td><td>CPU %</td></tr><tr><td><img alt='QPS_estimatedProcessedBytes.png' src='2022.04.05_19-47_k8s_taewa_3lite_41cf/csv/QPS_estimatedProcessedBytes.png' /></td><td><img alt='QPS_cpuUtilization.png' src='2022.04.05_19-47_k8s_taewa_3lite_41cf/csv/QPS_cpuUtilization.png' /></td><td><img alt='QPS_groupInServiceCapacity.png' src='2022.04.05_19-47_k8s_taewa_3lite_41cf/csv/QPS_groupInServiceCapacity.png' /></td><td>[285, 343, 334]<br><b>321</b></td><td>[44705, 45680, 43353]<br><b>44580</td><td>[86, 93, 87]<br><b>89</b></td></tr><td></td><td></td><td></td>\n",
       "        <td>max:<br>321<br>min:<br>215<br>mean:<br>280<br></td>\n",
       "        <td>max:<br>53731<br>min:<br>44580<br>mean:<br>50328<br></td>\n",
       "        <td>max:<br>99<br>min:<br>89<br>mean:<br>97<br></td>"
      ],
      "text/plain": [
       "<IPython.core.display.HTML object>"
      ]
     },
     "metadata": {
      "isolated": true
     },
     "output_type": "display_data"
    },
    {
     "data": {
      "text/html": [
       "<head><title>asg_taewa_3lite_</title><style>table, th, td {border: 1px solid black;} body {font: 17px Arial, sans-serif;}</style></head>date: 2022-04-18 09:50:57.278727<br><h2>asg_taewa_3lite_</h2><br><a href='o_asg_apache_3_.html'>o_asg_apache_3_.html</a>&nbsp;|&nbsp;><a href='o_asg_taewa_3lite_.html'>o_asg_taewa_3lite_.html</a>&nbsp;|&nbsp;<a href='o_asg_taewa_3_.html'>o_asg_taewa_3_.html</a>&nbsp;|&nbsp;<a href='o_k8s_apache_3_.html'>o_k8s_apache_3_.html</a>&nbsp;|&nbsp;<a href='o_k8s_taewa_3lite_.html'>o_k8s_taewa_3lite_.html</a>&nbsp;|&nbsp;<a href='o_k8s_taewa_3_.html'>o_k8s_taewa_3_.html</a>&nbsp;|&nbsp;<table><td></td><td></td><td></td>\n",
       "        <td>max:<br>666<br>min:<br>545<br>mean:<br>600<br></td>\n",
       "        <td>max:<br>64723<br>min:<br>42621<br>mean:<br>51405<br></td>\n",
       "        <td>max:<br>61<br>min:<br>59<br>mean:<br>60<br></td><tr><td rowspan='1'>1:  <a href='2022.03.26_10-35_asg_taewa_3lite_865b'>2022.03.26_10-35_asg_taewa_3lite_865b</a> </td></tr><tr><td>column1</td><td>column2</td><td>column3</td><td>Dura-tion s</td><td>QPS</td><td>CPU %</td></tr><tr><td><img alt='QPS_estimatedProcessedBytes.png' src='2022.03.26_10-35_asg_taewa_3lite_865b/csv/QPS_estimatedProcessedBytes.png' /></td><td><img alt='QPS_cpuUtilization.png' src='2022.03.26_10-35_asg_taewa_3lite_865b/csv/QPS_cpuUtilization.png' /></td><td><img alt='QPS_groupInServiceCapacity.png' src='2022.03.26_10-35_asg_taewa_3lite_865b/csv/QPS_groupInServiceCapacity.png' /></td><td>[666, 413, 640]<br><b>574</b></td><td>[53002, 53003, 53288]<br><b>53098</td><td>[59, 59, 59]<br><b>60</b></td></tr><tr><td rowspan='1'>2:  <a href='2022.03.27_19-31_asg_taewa_3lite_0c47'>2022.03.27_19-31_asg_taewa_3lite_0c47</a> </td></tr><tr><td>column1</td><td>column2</td><td>column3</td><td>Dura-tion s</td><td>QPS</td><td>CPU %</td></tr><tr><td><img alt='QPS_estimatedProcessedBytes.png' src='2022.03.27_19-31_asg_taewa_3lite_0c47/csv/QPS_estimatedProcessedBytes.png' /></td><td><img alt='QPS_cpuUtilization.png' src='2022.03.27_19-31_asg_taewa_3lite_0c47/csv/QPS_cpuUtilization.png' /></td><td><img alt='QPS_groupInServiceCapacity.png' src='2022.03.27_19-31_asg_taewa_3lite_0c47/csv/QPS_groupInServiceCapacity.png' /></td><td>[662, 408, 691]<br><b>588</b></td><td>[64201, 64848, 65119]<br><b>64723</td><td>[60, 60, 60]<br><b>61</b></td></tr><tr><td rowspan='1'>3:  <a href='2022.03.31_09-23_asg_taewa_3lite_41cf'>2022.03.31_09-23_asg_taewa_3lite_41cf</a> </td></tr><tr><td>column1</td><td>column2</td><td>column3</td><td>Dura-tion s</td><td>QPS</td><td>CPU %</td></tr><tr><td><img alt='QPS_estimatedProcessedBytes.png' src='2022.03.31_09-23_asg_taewa_3lite_41cf/csv/QPS_estimatedProcessedBytes.png' /></td><td><img alt='QPS_cpuUtilization.png' src='2022.03.31_09-23_asg_taewa_3lite_41cf/csv/QPS_cpuUtilization.png' /></td><td><img alt='QPS_groupInServiceCapacity.png' src='2022.03.31_09-23_asg_taewa_3lite_41cf/csv/QPS_groupInServiceCapacity.png' /></td><td>[561, 606, 651]<br><b>607</b></td><td>[44707, 45808, 46982]<br><b>45833</td><td>[61, 60, 61]<br><b>61</b></td></tr><tr><td rowspan='1'>4:  <a href='2022.03.31_19-33_asg_taewa_3lite_41cf'>2022.03.31_19-33_asg_taewa_3lite_41cf</a> </td></tr><tr><td>column1</td><td>column2</td><td>column3</td><td>Dura-tion s</td><td>QPS</td><td>CPU %</td></tr><tr><td><img alt='QPS_estimatedProcessedBytes.png' src='2022.03.31_19-33_asg_taewa_3lite_41cf/csv/QPS_estimatedProcessedBytes.png' /></td><td><img alt='QPS_cpuUtilization.png' src='2022.03.31_19-33_asg_taewa_3lite_41cf/csv/QPS_cpuUtilization.png' /></td><td><img alt='QPS_groupInServiceCapacity.png' src='2022.03.31_19-33_asg_taewa_3lite_41cf/csv/QPS_groupInServiceCapacity.png' /></td><td>[642, 627, 672]<br><b>647</b></td><td>[42915, 42420, 42527]<br><b>42621</td><td>[59, 60, 59]<br><b>60</b></td></tr><tr><td rowspan='1'>5:  <a href='2022.04.02_04-11_asg_taewa_3lite_41cf'>2022.04.02_04-11_asg_taewa_3lite_41cf</a> </td></tr><tr><td>column1</td><td>column2</td><td>column3</td><td>Dura-tion s</td><td>QPS</td><td>CPU %</td></tr><tr><td><img alt='QPS_estimatedProcessedBytes.png' src='2022.04.02_04-11_asg_taewa_3lite_41cf/csv/QPS_estimatedProcessedBytes.png' /></td><td><img alt='QPS_cpuUtilization.png' src='2022.04.02_04-11_asg_taewa_3lite_41cf/csv/QPS_cpuUtilization.png' /></td><td><img alt='QPS_groupInServiceCapacity.png' src='2022.04.02_04-11_asg_taewa_3lite_41cf/csv/QPS_groupInServiceCapacity.png' /></td><td>[690, 436, 662]<br><b>596</b></td><td>[55016, 55360, 55424]<br><b>55267</td><td>[60, 60, 61]<br><b>61</b></td></tr><tr><td rowspan='1'>6:  <a href='2022.04.02_08-33_asg_taewa_3lite_41cf'>2022.04.02_08-33_asg_taewa_3lite_41cf</a> </td></tr><tr><td>column1</td><td>column2</td><td>column3</td><td>Dura-tion s</td><td>QPS</td><td>CPU %</td></tr><tr><td><img alt='QPS_estimatedProcessedBytes.png' src='2022.04.02_08-33_asg_taewa_3lite_41cf/csv/QPS_estimatedProcessedBytes.png' /></td><td><img alt='QPS_cpuUtilization.png' src='2022.04.02_08-33_asg_taewa_3lite_41cf/csv/QPS_cpuUtilization.png' /></td><td><img alt='QPS_groupInServiceCapacity.png' src='2022.04.02_08-33_asg_taewa_3lite_41cf/csv/QPS_groupInServiceCapacity.png' /></td><td>[599, 584, 570]<br><b>585</b></td><td>[54587, 54172, 54179]<br><b>54313</td><td>[60, 60, 61]<br><b>61</b></td></tr><tr><td rowspan='1'>7:  <a href='2022.04.03_07-21_asg_taewa_3lite_41cf'>2022.04.03_07-21_asg_taewa_3lite_41cf</a> </td></tr><tr><td>column1</td><td>column2</td><td>column3</td><td>Dura-tion s</td><td>QPS</td><td>CPU %</td></tr><tr><td><img alt='QPS_estimatedProcessedBytes.png' src='2022.04.03_07-21_asg_taewa_3lite_41cf/csv/QPS_estimatedProcessedBytes.png' /></td><td><img alt='QPS_cpuUtilization.png' src='2022.04.03_07-21_asg_taewa_3lite_41cf/csv/QPS_cpuUtilization.png' /></td><td><img alt='QPS_groupInServiceCapacity.png' src='2022.04.03_07-21_asg_taewa_3lite_41cf/csv/QPS_groupInServiceCapacity.png' /></td><td>[414, 639, 625]<br><b>560</b></td><td>[49727, 50121, 49086]<br><b>49645</td><td>[61, 61, 61]<br><b>61</b></td></tr><tr><td rowspan='1'>8:  <a href='2022.04.04_06-12_asg_taewa_3lite_41cf'>2022.04.04_06-12_asg_taewa_3lite_41cf</a> </td></tr><tr><td>column1</td><td>column2</td><td>column3</td><td>Dura-tion s</td><td>QPS</td><td>CPU %</td></tr><tr><td><img alt='QPS_estimatedProcessedBytes.png' src='2022.04.04_06-12_asg_taewa_3lite_41cf/csv/QPS_estimatedProcessedBytes.png' /></td><td><img alt='QPS_cpuUtilization.png' src='2022.04.04_06-12_asg_taewa_3lite_41cf/csv/QPS_cpuUtilization.png' /></td><td><img alt='QPS_groupInServiceCapacity.png' src='2022.04.04_06-12_asg_taewa_3lite_41cf/csv/QPS_groupInServiceCapacity.png' /></td><td>[639, 385, 611]<br><b>545</b></td><td>[45302, 44589, 43179]<br><b>44357</td><td>[59, 59, 58]<br><b>59</b></td></tr><tr><td rowspan='1'>9:  <a href='2022.04.04_08-54_asg_taewa_3lite_41cf'>2022.04.04_08-54_asg_taewa_3lite_41cf</a> </td></tr><tr><td>column1</td><td>column2</td><td>column3</td><td>Dura-tion s</td><td>QPS</td><td>CPU %</td></tr><tr><td><img alt='QPS_estimatedProcessedBytes.png' src='2022.04.04_08-54_asg_taewa_3lite_41cf/csv/QPS_estimatedProcessedBytes.png' /></td><td><img alt='QPS_cpuUtilization.png' src='2022.04.04_08-54_asg_taewa_3lite_41cf/csv/QPS_cpuUtilization.png' /></td><td><img alt='QPS_groupInServiceCapacity.png' src='2022.04.04_08-54_asg_taewa_3lite_41cf/csv/QPS_groupInServiceCapacity.png' /></td><td>[623, 608, 653]<br><b>628</b></td><td>[54646, 54488, 54642]<br><b>54593</td><td>[60, 60, 60]<br><b>60</b></td></tr><tr><td rowspan='1'>10:  <a href='2022.04.05_05-15_asg_taewa_3lite_41cf'>2022.04.05_05-15_asg_taewa_3lite_41cf</a> </td></tr><tr><td>column1</td><td>column2</td><td>column3</td><td>Dura-tion s</td><td>QPS</td><td>CPU %</td></tr><tr><td><img alt='QPS_estimatedProcessedBytes.png' src='2022.04.05_05-15_asg_taewa_3lite_41cf/csv/QPS_estimatedProcessedBytes.png' /></td><td><img alt='QPS_cpuUtilization.png' src='2022.04.05_05-15_asg_taewa_3lite_41cf/csv/QPS_cpuUtilization.png' /></td><td><img alt='QPS_groupInServiceCapacity.png' src='2022.04.05_05-15_asg_taewa_3lite_41cf/csv/QPS_groupInServiceCapacity.png' /></td><td>[620, 666, 712]<br><b>666</b></td><td>[49508, 49594, 49693]<br><b>49599</td><td>[60, 60, 60]<br><b>61</b></td></tr><td></td><td></td><td></td>\n",
       "        <td>max:<br>666<br>min:<br>545<br>mean:<br>600<br></td>\n",
       "        <td>max:<br>64723<br>min:<br>42621<br>mean:<br>51405<br></td>\n",
       "        <td>max:<br>61<br>min:<br>59<br>mean:<br>60<br></td>"
      ],
      "text/plain": [
       "<IPython.core.display.HTML object>"
      ]
     },
     "metadata": {
      "isolated": true
     },
     "output_type": "display_data"
    },
    {
     "data": {
      "text/html": [
       "<head><title>k8s_apache_3_</title><style>table, th, td {border: 1px solid black;} body {font: 17px Arial, sans-serif;}</style></head>date: 2022-04-18 09:50:57.638473<br><h2>k8s_apache_3_</h2><br><a href='o_asg_apache_3_.html'>o_asg_apache_3_.html</a>&nbsp;|&nbsp;<a href='o_asg_taewa_3lite_.html'>o_asg_taewa_3lite_.html</a>&nbsp;|&nbsp;<a href='o_asg_taewa_3_.html'>o_asg_taewa_3_.html</a>&nbsp;|&nbsp;><a href='o_k8s_apache_3_.html'>o_k8s_apache_3_.html</a>&nbsp;|&nbsp;<a href='o_k8s_taewa_3lite_.html'>o_k8s_taewa_3lite_.html</a>&nbsp;|&nbsp;<a href='o_k8s_taewa_3_.html'>o_k8s_taewa_3_.html</a>&nbsp;|&nbsp;<table><td></td><td></td><td></td>\n",
       "        <td>max:<br>378<br>min:<br>202<br>mean:<br>292<br></td>\n",
       "        <td>max:<br>26541<br>min:<br>24634<br>mean:<br>25540<br></td>\n",
       "        <td>max:<br>99<br>min:<br>97<br>mean:<br>98<br></td><tr><td rowspan='1'>1:  <a href='2022.03.15_23-46_k8s_apache_3_4b98'>2022.03.15_23-46_k8s_apache_3_4b98</a> </td></tr><tr><td>column1</td><td>column2</td><td>column3</td><td>Dura-tion s</td><td>QPS</td><td>CPU %</td></tr><tr><td><img alt='QPS_estimatedProcessedBytes.png' src='2022.03.15_23-46_k8s_apache_3_4b98/csv/QPS_estimatedProcessedBytes.png' /></td><td><img alt='QPS_cpuUtilization.png' src='2022.03.15_23-46_k8s_apache_3_4b98/csv/QPS_cpuUtilization.png' /></td><td><img alt='QPS_groupInServiceCapacity.png' src='2022.03.15_23-46_k8s_apache_3_4b98/csv/QPS_groupInServiceCapacity.png' /></td><td>[302, 232, 282]<br><b>272</b></td><td>[25752, 25615, 25286]<br><b>25551</td><td>[98, 99, 99]<br><b>99</b></td></tr><tr><td rowspan='1'>2:  <a href='2022.03.16_20-42_k8s_apache_3_4b98'>2022.03.16_20-42_k8s_apache_3_4b98</a> </td></tr><tr><td>column1</td><td>column2</td><td>column3</td><td>Dura-tion s</td><td>QPS</td><td>CPU %</td></tr><tr><td><img alt='QPS_estimatedProcessedBytes.png' src='2022.03.16_20-42_k8s_apache_3_4b98/csv/QPS_estimatedProcessedBytes.png' /></td><td><img alt='QPS_cpuUtilization.png' src='2022.03.16_20-42_k8s_apache_3_4b98/csv/QPS_cpuUtilization.png' /></td><td><img alt='QPS_groupInServiceCapacity.png' src='2022.03.16_20-42_k8s_apache_3_4b98/csv/QPS_groupInServiceCapacity.png' /></td><td>[286, 338, 510]<br><b>378</b></td><td>[26120, 26686, 26815]<br><b>26541</td><td>[97, 97, 98]<br><b>98</b></td></tr><tr><td rowspan='1'>3:  <a href='2022.03.22_19-33_k8s_apache_3_54ef'>2022.03.22_19-33_k8s_apache_3_54ef</a> </td></tr><tr><td>column1</td><td>column2</td><td>column3</td><td>Dura-tion s</td><td>QPS</td><td>CPU %</td></tr><tr><td><img alt='QPS_estimatedProcessedBytes.png' src='2022.03.22_19-33_k8s_apache_3_54ef/csv/QPS_estimatedProcessedBytes.png' /></td><td><img alt='QPS_cpuUtilization.png' src='2022.03.22_19-33_k8s_apache_3_54ef/csv/QPS_cpuUtilization.png' /></td><td><img alt='QPS_groupInServiceCapacity.png' src='2022.03.22_19-33_k8s_apache_3_54ef/csv/QPS_groupInServiceCapacity.png' /></td><td>[228, 273, 359]<br><b>287</b></td><td>[26112, 25708, 25735]<br><b>25852</td><td>[97, 97, 97]<br><b>98</b></td></tr><tr><td rowspan='1'>4:  <a href='2022.03.23_03-27_k8s_apache_3_54ef'>2022.03.23_03-27_k8s_apache_3_54ef</a> </td></tr><tr><td>column1</td><td>column2</td><td>column3</td><td>Dura-tion s</td><td>QPS</td><td>CPU %</td></tr><tr><td><img alt='QPS_estimatedProcessedBytes.png' src='2022.03.23_03-27_k8s_apache_3_54ef/csv/QPS_estimatedProcessedBytes.png' /></td><td><img alt='QPS_cpuUtilization.png' src='2022.03.23_03-27_k8s_apache_3_54ef/csv/QPS_cpuUtilization.png' /></td><td><img alt='QPS_groupInServiceCapacity.png' src='2022.03.23_03-27_k8s_apache_3_54ef/csv/QPS_groupInServiceCapacity.png' /></td><td>[219, 280, 329]<br><b>277</b></td><td>[25767, 25782, 25960]<br><b>25837</td><td>[96, 96, 96]<br><b>97</b></td></tr><tr><td rowspan='1'>5:  <a href='2022.03.24_01-00_k8s_apache_3_54ef'>2022.03.24_01-00_k8s_apache_3_54ef</a> </td></tr><tr><td>column1</td><td>column2</td><td>column3</td><td>Dura-tion s</td><td>QPS</td><td>CPU %</td></tr><tr><td><img alt='QPS_estimatedProcessedBytes.png' src='2022.03.24_01-00_k8s_apache_3_54ef/csv/QPS_estimatedProcessedBytes.png' /></td><td><img alt='QPS_cpuUtilization.png' src='2022.03.24_01-00_k8s_apache_3_54ef/csv/QPS_cpuUtilization.png' /></td><td><img alt='QPS_groupInServiceCapacity.png' src='2022.03.24_01-00_k8s_apache_3_54ef/csv/QPS_groupInServiceCapacity.png' /></td><td>[218, 270, 318]<br><b>270</b></td><td>[26003, 25947, 25760]<br><b>25904</td><td>[98, 98, 98]<br><b>98</b></td></tr><tr><td rowspan='1'>6:  <a href='2022.03.25_00-34_k8s_apache_3_54ef'>2022.03.25_00-34_k8s_apache_3_54ef</a> </td></tr><tr><td>column1</td><td>column2</td><td>column3</td><td>Dura-tion s</td><td>QPS</td><td>CPU %</td></tr><tr><td><img alt='QPS_estimatedProcessedBytes.png' src='2022.03.25_00-34_k8s_apache_3_54ef/csv/QPS_estimatedProcessedBytes.png' /></td><td><img alt='QPS_cpuUtilization.png' src='2022.03.25_00-34_k8s_apache_3_54ef/csv/QPS_cpuUtilization.png' /></td><td><img alt='QPS_groupInServiceCapacity.png' src='2022.03.25_00-34_k8s_apache_3_54ef/csv/QPS_groupInServiceCapacity.png' /></td><td>[232, 167, 207]<br><b>202</b></td><td>[24905, 24917, 24677]<br><b>24833</td><td>[98, 98, 97]<br><b>98</b></td></tr><tr><td rowspan='1'>7:  <a href='2022.03.25_22-59_k8s_apache_3_54ef'>2022.03.25_22-59_k8s_apache_3_54ef</a> </td></tr><tr><td>column1</td><td>column2</td><td>column3</td><td>Dura-tion s</td><td>QPS</td><td>CPU %</td></tr><tr><td><img alt='QPS_estimatedProcessedBytes.png' src='2022.03.25_22-59_k8s_apache_3_54ef/csv/QPS_estimatedProcessedBytes.png' /></td><td><img alt='QPS_cpuUtilization.png' src='2022.03.25_22-59_k8s_apache_3_54ef/csv/QPS_cpuUtilization.png' /></td><td><img alt='QPS_groupInServiceCapacity.png' src='2022.03.25_22-59_k8s_apache_3_54ef/csv/QPS_groupInServiceCapacity.png' /></td><td>[304, 355, 226]<br><b>296</b></td><td>[25556, 25533, 25849]<br><b>25646</td><td>[98, 98, 98]<br><b>99</b></td></tr><tr><td rowspan='1'>8:  <a href='2022.03.28_02-52_k8s_apache_3_0c47'>2022.03.28_02-52_k8s_apache_3_0c47</a> </td></tr><tr><td>column1</td><td>column2</td><td>column3</td><td>Dura-tion s</td><td>QPS</td><td>CPU %</td></tr><tr><td><img alt='QPS_estimatedProcessedBytes.png' src='2022.03.28_02-52_k8s_apache_3_0c47/csv/QPS_estimatedProcessedBytes.png' /></td><td><img alt='QPS_cpuUtilization.png' src='2022.03.28_02-52_k8s_apache_3_0c47/csv/QPS_cpuUtilization.png' /></td><td><img alt='QPS_groupInServiceCapacity.png' src='2022.03.28_02-52_k8s_apache_3_0c47/csv/QPS_groupInServiceCapacity.png' /></td><td>[213, 268, 266]<br><b>250</b></td><td>[25687, 25694, 25325]<br><b>25569</td><td>[97, 97, 97]<br><b>98</b></td></tr><tr><td rowspan='1'>9:  <a href='2022.03.29_23-13_k8s_apache_3_41cf'>2022.03.29_23-13_k8s_apache_3_41cf</a> </td></tr><tr><td>column1</td><td>column2</td><td>column3</td><td>Dura-tion s</td><td>QPS</td><td>CPU %</td></tr><tr><td><img alt='QPS_estimatedProcessedBytes.png' src='2022.03.29_23-13_k8s_apache_3_41cf/csv/QPS_estimatedProcessedBytes.png' /></td><td><img alt='QPS_cpuUtilization.png' src='2022.03.29_23-13_k8s_apache_3_41cf/csv/QPS_cpuUtilization.png' /></td><td><img alt='QPS_groupInServiceCapacity.png' src='2022.03.29_23-13_k8s_apache_3_41cf/csv/QPS_groupInServiceCapacity.png' /></td><td>[307, 381, 248]<br><b>312</b></td><td>[24619, 24731, 24550]<br><b>24634</td><td>[97, 96, 96]<br><b>97</b></td></tr><tr><td rowspan='1'>10:  <a href='2022.03.31_02-22_k8s_apache_3_41cf'>2022.03.31_02-22_k8s_apache_3_41cf</a> </td></tr><tr><td>column1</td><td>column2</td><td>column3</td><td>Dura-tion s</td><td>QPS</td><td>CPU %</td></tr><tr><td><img alt='QPS_estimatedProcessedBytes.png' src='2022.03.31_02-22_k8s_apache_3_41cf/csv/QPS_estimatedProcessedBytes.png' /></td><td><img alt='QPS_cpuUtilization.png' src='2022.03.31_02-22_k8s_apache_3_41cf/csv/QPS_cpuUtilization.png' /></td><td><img alt='QPS_groupInServiceCapacity.png' src='2022.03.31_02-22_k8s_apache_3_41cf/csv/QPS_groupInServiceCapacity.png' /></td><td>[312, 387, 283]<br><b>328</b></td><td>[25038, 25524, 25251]<br><b>25272</td><td>[99, 99, 99]<br><b>99</b></td></tr><tr><td rowspan='1'>11:  <a href='2022.04.05_22-42_k8s_apache_3_41cf'>2022.04.05_22-42_k8s_apache_3_41cf</a> </td></tr><tr><td>column1</td><td>column2</td><td>column3</td><td>Dura-tion s</td><td>QPS</td><td>CPU %</td></tr><tr><td><img alt='QPS_estimatedProcessedBytes.png' src='2022.04.05_22-42_k8s_apache_3_41cf/csv/QPS_estimatedProcessedBytes.png' /></td><td><img alt='QPS_cpuUtilization.png' src='2022.04.05_22-42_k8s_apache_3_41cf/csv/QPS_cpuUtilization.png' /></td><td><img alt='QPS_groupInServiceCapacity.png' src='2022.04.05_22-42_k8s_apache_3_41cf/csv/QPS_groupInServiceCapacity.png' /></td><td>[306, 353, 283]<br><b>315</b></td><td>[25330, 25157, 25464]<br><b>25318</td><td>[98, 98, 98]<br><b>99</b></td></tr><tr><td rowspan='1'>12:  <a href='2022.04.16_19-05_k8s_apache_3_41cf'>2022.04.16_19-05_k8s_apache_3_41cf</a> </td></tr><tr><td>column1</td><td>column2</td><td>column3</td><td>Dura-tion s</td><td>QPS</td><td>CPU %</td></tr><tr><td><img alt='QPS_estimatedProcessedBytes.png' src='2022.04.16_19-05_k8s_apache_3_41cf/csv/QPS_estimatedProcessedBytes.png' /></td><td><img alt='QPS_cpuUtilization.png' src='2022.04.16_19-05_k8s_apache_3_41cf/csv/QPS_cpuUtilization.png' /></td><td><img alt='QPS_groupInServiceCapacity.png' src='2022.04.16_19-05_k8s_apache_3_41cf/csv/QPS_groupInServiceCapacity.png' /></td><td>[313, 266, 372]<br><b>318</b></td><td>[25414, 25605, 25556]<br><b>25526</td><td>[97, 97, 97]<br><b>97</b></td></tr><td></td><td></td><td></td>\n",
       "        <td>max:<br>378<br>min:<br>202<br>mean:<br>292<br></td>\n",
       "        <td>max:<br>26541<br>min:<br>24634<br>mean:<br>25540<br></td>\n",
       "        <td>max:<br>99<br>min:<br>97<br>mean:<br>98<br></td>"
      ],
      "text/plain": [
       "<IPython.core.display.HTML object>"
      ]
     },
     "metadata": {
      "isolated": true
     },
     "output_type": "display_data"
    },
    {
     "data": {
      "text/html": [
       "<head><title>k8s_taewa_3_</title><style>table, th, td {border: 1px solid black;} body {font: 17px Arial, sans-serif;}</style></head>date: 2022-04-18 09:50:58.103212<br><h2>k8s_taewa_3_</h2><br><a href='o_asg_apache_3_.html'>o_asg_apache_3_.html</a>&nbsp;|&nbsp;<a href='o_asg_taewa_3lite_.html'>o_asg_taewa_3lite_.html</a>&nbsp;|&nbsp;<a href='o_asg_taewa_3_.html'>o_asg_taewa_3_.html</a>&nbsp;|&nbsp;<a href='o_k8s_apache_3_.html'>o_k8s_apache_3_.html</a>&nbsp;|&nbsp;<a href='o_k8s_taewa_3lite_.html'>o_k8s_taewa_3lite_.html</a>&nbsp;|&nbsp;><a href='o_k8s_taewa_3_.html'>o_k8s_taewa_3_.html</a>&nbsp;|&nbsp;<table><td></td><td></td><td></td>\n",
       "        <td>max:<br>327<br>min:<br>179<br>mean:<br>267<br></td>\n",
       "        <td>max:<br>6741<br>min:<br>5879<br>mean:<br>6423<br></td>\n",
       "        <td>max:<br>99<br>min:<br>93<br>mean:<br>97<br></td><tr><td rowspan='1'>1:  <a href='2022.03.16_06-52_k8s_taewa_3_4b98'>2022.03.16_06-52_k8s_taewa_3_4b98</a> </td></tr><tr><td>column1</td><td>column2</td><td>column3</td><td>Dura-tion s</td><td>QPS</td><td>CPU %</td></tr><tr><td><img alt='QPS_estimatedProcessedBytes.png' src='2022.03.16_06-52_k8s_taewa_3_4b98/csv/QPS_estimatedProcessedBytes.png' /></td><td><img alt='QPS_cpuUtilization.png' src='2022.03.16_06-52_k8s_taewa_3_4b98/csv/QPS_cpuUtilization.png' /></td><td><img alt='QPS_groupInServiceCapacity.png' src='2022.03.16_06-52_k8s_taewa_3_4b98/csv/QPS_groupInServiceCapacity.png' /></td><td>[195, 290, 203]<br><b>230</b></td><td>[6838, 6516, 6574]<br><b>6643</td><td>[98, 99, 97]<br><b>98</b></td></tr><tr><td rowspan='1'>2:  <a href='2022.03.17_09-14_k8s_taewa_3_af09'>2022.03.17_09-14_k8s_taewa_3_af09</a> </td></tr><tr><td>column1</td><td>column2</td><td>column3</td><td>Dura-tion s</td><td>QPS</td><td>CPU %</td></tr><tr><td><img alt='QPS_estimatedProcessedBytes.png' src='2022.03.17_09-14_k8s_taewa_3_af09/csv/QPS_estimatedProcessedBytes.png' /></td><td><img alt='QPS_cpuUtilization.png' src='2022.03.17_09-14_k8s_taewa_3_af09/csv/QPS_cpuUtilization.png' /></td><td><img alt='QPS_groupInServiceCapacity.png' src='2022.03.17_09-14_k8s_taewa_3_af09/csv/QPS_groupInServiceCapacity.png' /></td><td>[207, 258, 257]<br><b>241</b></td><td>[6535, 6613, 6147]<br><b>6432</td><td>[98, 98, 97]<br><b>98</b></td></tr><tr><td rowspan='1'>3:  <a href='2022.03.21_08-15_k8s_taewa_3_54ef'>2022.03.21_08-15_k8s_taewa_3_54ef</a> </td></tr><tr><td>column1</td><td>column2</td><td>column3</td><td>Dura-tion s</td><td>QPS</td><td>CPU %</td></tr><tr><td><img alt='QPS_estimatedProcessedBytes.png' src='2022.03.21_08-15_k8s_taewa_3_54ef/csv/QPS_estimatedProcessedBytes.png' /></td><td><img alt='QPS_cpuUtilization.png' src='2022.03.21_08-15_k8s_taewa_3_54ef/csv/QPS_cpuUtilization.png' /></td><td><img alt='QPS_groupInServiceCapacity.png' src='2022.03.21_08-15_k8s_taewa_3_54ef/csv/QPS_groupInServiceCapacity.png' /></td><td>[316, 129, 247]<br><b>231</b></td><td>[6781, 6380, 6671]<br><b>6611</td><td>[99, 98, 99]<br><b>99</b></td></tr><tr><td rowspan='1'>4:  <a href='2022.03.22_08-41_k8s_taewa_3_54ef'>2022.03.22_08-41_k8s_taewa_3_54ef</a> </td></tr><tr><td>column1</td><td>column2</td><td>column3</td><td>Dura-tion s</td><td>QPS</td><td>CPU %</td></tr><tr><td><img alt='QPS_estimatedProcessedBytes.png' src='2022.03.22_08-41_k8s_taewa_3_54ef/csv/QPS_estimatedProcessedBytes.png' /></td><td><img alt='QPS_cpuUtilization.png' src='2022.03.22_08-41_k8s_taewa_3_54ef/csv/QPS_cpuUtilization.png' /></td><td><img alt='QPS_groupInServiceCapacity.png' src='2022.03.22_08-41_k8s_taewa_3_54ef/csv/QPS_groupInServiceCapacity.png' /></td><td>[222, 266, 255]<br><b>248</b></td><td>[6455, 6900, 6868]<br><b>6741</td><td>[98, 99, 98]<br><b>99</b></td></tr><tr><td rowspan='1'>5:  <a href='2022.03.25_08-50_k8s_taewa_3_54ef'>2022.03.25_08-50_k8s_taewa_3_54ef</a> </td></tr><tr><td>column1</td><td>column2</td><td>column3</td><td>Dura-tion s</td><td>QPS</td><td>CPU %</td></tr><tr><td><img alt='QPS_estimatedProcessedBytes.png' src='2022.03.25_08-50_k8s_taewa_3_54ef/csv/QPS_estimatedProcessedBytes.png' /></td><td><img alt='QPS_cpuUtilization.png' src='2022.03.25_08-50_k8s_taewa_3_54ef/csv/QPS_cpuUtilization.png' /></td><td><img alt='QPS_groupInServiceCapacity.png' src='2022.03.25_08-50_k8s_taewa_3_54ef/csv/QPS_groupInServiceCapacity.png' /></td><td>[150, 167, 219]<br><b>179</b></td><td>[5933, 6217, 5485]<br><b>5879</td><td>[95, 96, 98]<br><b>97</b></td></tr><tr><td rowspan='1'>6:  <a href='2022.03.26_01-22_k8s_taewa_3_54ef'>2022.03.26_01-22_k8s_taewa_3_54ef</a> </td></tr><tr><td>column1</td><td>column2</td><td>column3</td><td>Dura-tion s</td><td>QPS</td><td>CPU %</td></tr><tr><td><img alt='QPS_estimatedProcessedBytes.png' src='2022.03.26_01-22_k8s_taewa_3_54ef/csv/QPS_estimatedProcessedBytes.png' /></td><td><img alt='QPS_cpuUtilization.png' src='2022.03.26_01-22_k8s_taewa_3_54ef/csv/QPS_cpuUtilization.png' /></td><td><img alt='QPS_groupInServiceCapacity.png' src='2022.03.26_01-22_k8s_taewa_3_54ef/csv/QPS_groupInServiceCapacity.png' /></td><td>[378, 247, 351]<br><b>325</b></td><td>[6712, 6522, 6616]<br><b>6617</td><td>[98, 97, 98]<br><b>98</b></td></tr><tr><td rowspan='1'>7:  <a href='2022.03.27_23-34_k8s_taewa_3_0c47'>2022.03.27_23-34_k8s_taewa_3_0c47</a> </td></tr><tr><td>column1</td><td>column2</td><td>column3</td><td>Dura-tion s</td><td>QPS</td><td>CPU %</td></tr><tr><td><img alt='QPS_estimatedProcessedBytes.png' src='2022.03.27_23-34_k8s_taewa_3_0c47/csv/QPS_estimatedProcessedBytes.png' /></td><td><img alt='QPS_cpuUtilization.png' src='2022.03.27_23-34_k8s_taewa_3_0c47/csv/QPS_cpuUtilization.png' /></td><td><img alt='QPS_groupInServiceCapacity.png' src='2022.03.27_23-34_k8s_taewa_3_0c47/csv/QPS_groupInServiceCapacity.png' /></td><td>[313, 307, 265]<br><b>296</b></td><td>[6280, 6123, 6305]<br><b>6237</td><td>[98, 99, 97]<br><b>98</b></td></tr><tr><td rowspan='1'>8:  <a href='2022.03.28_06-43_k8s_taewa_3_0c47'>2022.03.28_06-43_k8s_taewa_3_0c47</a> </td></tr><tr><td>column1</td><td>column2</td><td>column3</td><td>Dura-tion s</td><td>QPS</td><td>CPU %</td></tr><tr><td><img alt='QPS_estimatedProcessedBytes.png' src='2022.03.28_06-43_k8s_taewa_3_0c47/csv/QPS_estimatedProcessedBytes.png' /></td><td><img alt='QPS_cpuUtilization.png' src='2022.03.28_06-43_k8s_taewa_3_0c47/csv/QPS_cpuUtilization.png' /></td><td><img alt='QPS_groupInServiceCapacity.png' src='2022.03.28_06-43_k8s_taewa_3_0c47/csv/QPS_groupInServiceCapacity.png' /></td><td>[365, 350, 264]<br><b>327</b></td><td>[6181, 6322, 6423]<br><b>6309</td><td>[92, 97, 93]<br><b>95</b></td></tr><tr><td rowspan='1'>9:  <a href='2022.03.30_03-56_k8s_taewa_3_41cf'>2022.03.30_03-56_k8s_taewa_3_41cf</a> </td></tr><tr><td>column1</td><td>column2</td><td>column3</td><td>Dura-tion s</td><td>QPS</td><td>CPU %</td></tr><tr><td><img alt='QPS_estimatedProcessedBytes.png' src='2022.03.30_03-56_k8s_taewa_3_41cf/csv/QPS_estimatedProcessedBytes.png' /></td><td><img alt='QPS_cpuUtilization.png' src='2022.03.30_03-56_k8s_taewa_3_41cf/csv/QPS_cpuUtilization.png' /></td><td><img alt='QPS_groupInServiceCapacity.png' src='2022.03.30_03-56_k8s_taewa_3_41cf/csv/QPS_groupInServiceCapacity.png' /></td><td>[381, 295, 251]<br><b>310</b></td><td>[5732, 6407, 6579]<br><b>6240</td><td>[99, 92, 92]<br><b>95</b></td></tr><tr><td rowspan='1'>10:  <a href='2022.04.04_22-12_k8s_taewa_3_41cf'>2022.04.04_22-12_k8s_taewa_3_41cf</a> </td></tr><tr><td>column1</td><td>column2</td><td>column3</td><td>Dura-tion s</td><td>QPS</td><td>CPU %</td></tr><tr><td><img alt='QPS_estimatedProcessedBytes.png' src='2022.04.04_22-12_k8s_taewa_3_41cf/csv/QPS_estimatedProcessedBytes.png' /></td><td><img alt='QPS_cpuUtilization.png' src='2022.04.04_22-12_k8s_taewa_3_41cf/csv/QPS_cpuUtilization.png' /></td><td><img alt='QPS_groupInServiceCapacity.png' src='2022.04.04_22-12_k8s_taewa_3_41cf/csv/QPS_groupInServiceCapacity.png' /></td><td>[293, 346, 337]<br><b>326</b></td><td>[6333, 6549, 6152]<br><b>6345</td><td>[85, 94, 98]<br><b>93</b></td></tr><tr><td rowspan='1'>11:  <a href='2022.04.06_09-07_k8s_taewa_3_41cf'>2022.04.06_09-07_k8s_taewa_3_41cf</a> </td></tr><tr><td>column1</td><td>column2</td><td>column3</td><td>Dura-tion s</td><td>QPS</td><td>CPU %</td></tr><tr><td><img alt='QPS_estimatedProcessedBytes.png' src='2022.04.06_09-07_k8s_taewa_3_41cf/csv/QPS_estimatedProcessedBytes.png' /></td><td><img alt='QPS_cpuUtilization.png' src='2022.04.06_09-07_k8s_taewa_3_41cf/csv/QPS_cpuUtilization.png' /></td><td><img alt='QPS_groupInServiceCapacity.png' src='2022.04.06_09-07_k8s_taewa_3_41cf/csv/QPS_groupInServiceCapacity.png' /></td><td>[207, 239]<br><b>224</b></td><td>[6815, 6833, 6161]<br><b>6603</td><td>[98, 98, 98]<br><b>99</b></td></tr><tr><td rowspan='1'><b>skip skip skip: 2022.04.17_08-20_k8s_taewa_3_41cf</b></td></tr><td></td><td></td><td></td>\n",
       "        <td>max:<br>327<br>min:<br>179<br>mean:<br>267<br></td>\n",
       "        <td>max:<br>6741<br>min:<br>5879<br>mean:<br>6423<br></td>\n",
       "        <td>max:<br>99<br>min:<br>93<br>mean:<br>97<br></td>"
      ],
      "text/plain": [
       "<IPython.core.display.HTML object>"
      ]
     },
     "metadata": {
      "isolated": true
     },
     "output_type": "display_data"
    },
    {
     "data": {
      "text/html": [
       "<head><title>asg_apache_3_</title><style>table, th, td {border: 1px solid black;} body {font: 17px Arial, sans-serif;}</style></head>date: 2022-04-18 09:50:58.776004<br><h2>asg_apache_3_</h2><br>><a href='o_asg_apache_3_.html'>o_asg_apache_3_.html</a>&nbsp;|&nbsp;<a href='o_asg_taewa_3lite_.html'>o_asg_taewa_3lite_.html</a>&nbsp;|&nbsp;<a href='o_asg_taewa_3_.html'>o_asg_taewa_3_.html</a>&nbsp;|&nbsp;<a href='o_k8s_apache_3_.html'>o_k8s_apache_3_.html</a>&nbsp;|&nbsp;<a href='o_k8s_taewa_3lite_.html'>o_k8s_taewa_3lite_.html</a>&nbsp;|&nbsp;<a href='o_k8s_taewa_3_.html'>o_k8s_taewa_3_.html</a>&nbsp;|&nbsp;<table><td></td><td></td><td></td>\n",
       "        <td>max:<br>692<br>min:<br>545<br>mean:<br>624<br></td>\n",
       "        <td>max:<br>64880<br>min:<br>48921<br>mean:<br>57720<br></td>\n",
       "        <td>max:<br>100<br>min:<br>99<br>mean:<br>100<br></td><tr><td rowspan='1'>1:  <a href='2022.03.16_03-17_asg_apache_3_4b98'>2022.03.16_03-17_asg_apache_3_4b98</a> </td></tr><tr><td>column1</td><td>column2</td><td>column3</td><td>Dura-tion s</td><td>QPS</td><td>CPU %</td></tr><tr><td><img alt='QPS_estimatedProcessedBytes.png' src='2022.03.16_03-17_asg_apache_3_4b98/csv/QPS_estimatedProcessedBytes.png' /></td><td><img alt='QPS_cpuUtilization.png' src='2022.03.16_03-17_asg_apache_3_4b98/csv/QPS_cpuUtilization.png' /></td><td><img alt='QPS_groupInServiceCapacity.png' src='2022.03.16_03-17_asg_apache_3_4b98/csv/QPS_groupInServiceCapacity.png' /></td><td>[640, 680, 416]<br><b>579</b></td><td>[64271, 64827, 64741]<br><b>64613</td><td>[99, 99, 99]<br><b>100</b></td></tr><tr><td rowspan='1'>2:  <a href='2022.03.17_00-15_asg_apache_3_4b98'>2022.03.17_00-15_asg_apache_3_4b98</a> </td></tr><tr><td>column1</td><td>column2</td><td>column3</td><td>Dura-tion s</td><td>QPS</td><td>CPU %</td></tr><tr><td><img alt='QPS_estimatedProcessedBytes.png' src='2022.03.17_00-15_asg_apache_3_4b98/csv/QPS_estimatedProcessedBytes.png' /></td><td><img alt='QPS_cpuUtilization.png' src='2022.03.17_00-15_asg_apache_3_4b98/csv/QPS_cpuUtilization.png' /></td><td><img alt='QPS_groupInServiceCapacity.png' src='2022.03.17_00-15_asg_apache_3_4b98/csv/QPS_groupInServiceCapacity.png' /></td><td>[645, 626, 666]<br><b>646</b></td><td>[54704, 54760, 54008]<br><b>54491</td><td>[99, 99, 99]<br><b>100</b></td></tr><tr><td rowspan='1'>3:  <a href='2022.03.22_23-32_asg_apache_3_54ef'>2022.03.22_23-32_asg_apache_3_54ef</a> </td></tr><tr><td>column1</td><td>column2</td><td>column3</td><td>Dura-tion s</td><td>QPS</td><td>CPU %</td></tr><tr><td><img alt='QPS_estimatedProcessedBytes.png' src='2022.03.22_23-32_asg_apache_3_54ef/csv/QPS_estimatedProcessedBytes.png' /></td><td><img alt='QPS_cpuUtilization.png' src='2022.03.22_23-32_asg_apache_3_54ef/csv/QPS_cpuUtilization.png' /></td><td><img alt='QPS_groupInServiceCapacity.png' src='2022.03.22_23-32_asg_apache_3_54ef/csv/QPS_groupInServiceCapacity.png' /></td><td>[626, 365, 643]<br><b>545</b></td><td>[54952, 54893, 54942]<br><b>54930</td><td>[99, 99, 99]<br><b>100</b></td></tr><tr><td rowspan='1'>4:  <a href='2022.03.23_19-06_asg_apache_3_54ef'>2022.03.23_19-06_asg_apache_3_54ef</a> </td></tr><tr><td>column1</td><td>column2</td><td>column3</td><td>Dura-tion s</td><td>QPS</td><td>CPU %</td></tr><tr><td><img alt='QPS_estimatedProcessedBytes.png' src='2022.03.23_19-06_asg_apache_3_54ef/csv/QPS_estimatedProcessedBytes.png' /></td><td><img alt='QPS_cpuUtilization.png' src='2022.03.23_19-06_asg_apache_3_54ef/csv/QPS_cpuUtilization.png' /></td><td><img alt='QPS_groupInServiceCapacity.png' src='2022.03.23_19-06_asg_apache_3_54ef/csv/QPS_groupInServiceCapacity.png' /></td><td>[655, 634, 673]<br><b>654</b></td><td>[53972, 53831, 53547]<br><b>53784</td><td>[99, 98, 99]<br><b>99</b></td></tr><tr><td rowspan='1'>5:  <a href='2022.03.24_03-52_asg_apache_3_54ef'>2022.03.24_03-52_asg_apache_3_54ef</a> </td></tr><tr><td>column1</td><td>column2</td><td>column3</td><td>Dura-tion s</td><td>QPS</td><td>CPU %</td></tr><tr><td><img alt='QPS_estimatedProcessedBytes.png' src='2022.03.24_03-52_asg_apache_3_54ef/csv/QPS_estimatedProcessedBytes.png' /></td><td><img alt='QPS_cpuUtilization.png' src='2022.03.24_03-52_asg_apache_3_54ef/csv/QPS_cpuUtilization.png' /></td><td><img alt='QPS_groupInServiceCapacity.png' src='2022.03.24_03-52_asg_apache_3_54ef/csv/QPS_groupInServiceCapacity.png' /></td><td>[641, 682, 422]<br><b>582</b></td><td>[51788, 51923, 51857]<br><b>51857</td><td>[99, 99, 99]<br><b>100</b></td></tr><tr><td rowspan='1'>6:  <a href='2022.03.24_20-04_asg_apache_3_54ef'>2022.03.24_20-04_asg_apache_3_54ef</a> </td></tr><tr><td>column1</td><td>column2</td><td>column3</td><td>Dura-tion s</td><td>QPS</td><td>CPU %</td></tr><tr><td><img alt='QPS_estimatedProcessedBytes.png' src='2022.03.24_20-04_asg_apache_3_54ef/csv/QPS_estimatedProcessedBytes.png' /></td><td><img alt='QPS_cpuUtilization.png' src='2022.03.24_20-04_asg_apache_3_54ef/csv/QPS_cpuUtilization.png' /></td><td><img alt='QPS_groupInServiceCapacity.png' src='2022.03.24_20-04_asg_apache_3_54ef/csv/QPS_groupInServiceCapacity.png' /></td><td>[616, 640, 620]<br><b>626</b></td><td>[55310, 55417, 55365]<br><b>55364</td><td>[99, 99, 99]<br><b>100</b></td></tr><tr><td rowspan='1'>7:  <a href='2022.03.27_07-06_asg_apache_3_0c47'>2022.03.27_07-06_asg_apache_3_0c47</a> </td></tr><tr><td>column1</td><td>column2</td><td>column3</td><td>Dura-tion s</td><td>QPS</td><td>CPU %</td></tr><tr><td><img alt='QPS_estimatedProcessedBytes.png' src='2022.03.27_07-06_asg_apache_3_0c47/csv/QPS_estimatedProcessedBytes.png' /></td><td><img alt='QPS_cpuUtilization.png' src='2022.03.27_07-06_asg_apache_3_0c47/csv/QPS_cpuUtilization.png' /></td><td><img alt='QPS_groupInServiceCapacity.png' src='2022.03.27_07-06_asg_apache_3_0c47/csv/QPS_groupInServiceCapacity.png' /></td><td>[709, 449, 658]<br><b>606</b></td><td>[61036, 60342, 61049]<br><b>60810</td><td>[99, 99, 99]<br><b>100</b></td></tr><tr><td rowspan='1'>8:  <a href='2022.03.28_19-57_asg_apache_3_41cf'>2022.03.28_19-57_asg_apache_3_41cf</a> </td></tr><tr><td>column1</td><td>column2</td><td>column3</td><td>Dura-tion s</td><td>QPS</td><td>CPU %</td></tr><tr><td><img alt='QPS_estimatedProcessedBytes.png' src='2022.03.28_19-57_asg_apache_3_41cf/csv/QPS_estimatedProcessedBytes.png' /></td><td><img alt='QPS_cpuUtilization.png' src='2022.03.28_19-57_asg_apache_3_41cf/csv/QPS_cpuUtilization.png' /></td><td><img alt='QPS_groupInServiceCapacity.png' src='2022.03.28_19-57_asg_apache_3_41cf/csv/QPS_groupInServiceCapacity.png' /></td><td>[716, 636, 617]<br><b>657</b></td><td>[59751, 61362, 61177]<br><b>60764</td><td>[99, 99, 99]<br><b>100</b></td></tr><tr><td rowspan='1'>9:  <a href='2022.03.30_20-36_asg_apache_3_41cf'>2022.03.30_20-36_asg_apache_3_41cf</a> </td></tr><tr><td>column1</td><td>column2</td><td>column3</td><td>Dura-tion s</td><td>QPS</td><td>CPU %</td></tr><tr><td><img alt='QPS_estimatedProcessedBytes.png' src='2022.03.30_20-36_asg_apache_3_41cf/csv/QPS_estimatedProcessedBytes.png' /></td><td><img alt='QPS_cpuUtilization.png' src='2022.03.30_20-36_asg_apache_3_41cf/csv/QPS_cpuUtilization.png' /></td><td><img alt='QPS_groupInServiceCapacity.png' src='2022.03.30_20-36_asg_apache_3_41cf/csv/QPS_groupInServiceCapacity.png' /></td><td>[649, 688, 426]<br><b>588</b></td><td>[59050, 59308, 59081]<br><b>59147</td><td>[99, 99, 99]<br><b>100</b></td></tr><tr><td rowspan='1'>10:  <a href='2022.04.04_19-18_asg_apache_3_41cf'>2022.04.04_19-18_asg_apache_3_41cf</a> </td></tr><tr><td>column1</td><td>column2</td><td>column3</td><td>Dura-tion s</td><td>QPS</td><td>CPU %</td></tr><tr><td><img alt='QPS_estimatedProcessedBytes.png' src='2022.04.04_19-18_asg_apache_3_41cf/csv/QPS_estimatedProcessedBytes.png' /></td><td><img alt='QPS_cpuUtilization.png' src='2022.04.04_19-18_asg_apache_3_41cf/csv/QPS_cpuUtilization.png' /></td><td><img alt='QPS_groupInServiceCapacity.png' src='2022.04.04_19-18_asg_apache_3_41cf/csv/QPS_groupInServiceCapacity.png' /></td><td>[669, 709, 689]<br><b>689</b></td><td>[49314, 48677, 48770]<br><b>48921</td><td>[99, 99, 99]<br><b>100</b></td></tr><tr><td rowspan='1'>11:  <a href='2022.04.15_22-03_asg_apache_3_41cf'>2022.04.15_22-03_asg_apache_3_41cf</a> </td></tr><tr><td>column1</td><td>column2</td><td>column3</td><td>Dura-tion s</td><td>QPS</td><td>CPU %</td></tr><tr><td><img alt='QPS_estimatedProcessedBytes.png' src='2022.04.15_22-03_asg_apache_3_41cf/csv/QPS_estimatedProcessedBytes.png' /></td><td><img alt='QPS_cpuUtilization.png' src='2022.04.15_22-03_asg_apache_3_41cf/csv/QPS_cpuUtilization.png' /></td><td><img alt='QPS_groupInServiceCapacity.png' src='2022.04.15_22-03_asg_apache_3_41cf/csv/QPS_groupInServiceCapacity.png' /></td><td>[632, 731, 710]<br><b>692</b></td><td>[63383, 63098, 62772]<br><b>63085</td><td>[99, 98, 99]<br><b>99</b></td></tr><tr><td rowspan='1'>12:  <a href='2022.04.16_01-02_asg_apache_3_41cf'>2022.04.16_01-02_asg_apache_3_41cf</a> </td></tr><tr><td>column1</td><td>column2</td><td>column3</td><td>Dura-tion s</td><td>QPS</td><td>CPU %</td></tr><tr><td><img alt='QPS_estimatedProcessedBytes.png' src='2022.04.16_01-02_asg_apache_3_41cf/csv/QPS_estimatedProcessedBytes.png' /></td><td><img alt='QPS_cpuUtilization.png' src='2022.04.16_01-02_asg_apache_3_41cf/csv/QPS_cpuUtilization.png' /></td><td><img alt='QPS_groupInServiceCapacity.png' src='2022.04.16_01-02_asg_apache_3_41cf/csv/QPS_groupInServiceCapacity.png' /></td><td>[642, 561, 662]<br><b>623</b></td><td>[65526, 64109, 65004]<br><b>64880</td><td>[99, 97, 99]<br><b>99</b></td></tr><td></td><td></td><td></td>\n",
       "        <td>max:<br>692<br>min:<br>545<br>mean:<br>624<br></td>\n",
       "        <td>max:<br>64880<br>min:<br>48921<br>mean:<br>57720<br></td>\n",
       "        <td>max:<br>100<br>min:<br>99<br>mean:<br>100<br></td>"
      ],
      "text/plain": [
       "<IPython.core.display.HTML object>"
      ]
     },
     "metadata": {
      "isolated": true
     },
     "output_type": "display_data"
    },
    {
     "data": {
      "text/html": [
       "<head><title>asg_taewa_3_</title><style>table, th, td {border: 1px solid black;} body {font: 17px Arial, sans-serif;}</style></head>date: 2022-04-18 09:50:59.236048<br><h2>asg_taewa_3_</h2><br><a href='o_asg_apache_3_.html'>o_asg_apache_3_.html</a>&nbsp;|&nbsp;<a href='o_asg_taewa_3lite_.html'>o_asg_taewa_3lite_.html</a>&nbsp;|&nbsp;><a href='o_asg_taewa_3_.html'>o_asg_taewa_3_.html</a>&nbsp;|&nbsp;<a href='o_k8s_apache_3_.html'>o_k8s_apache_3_.html</a>&nbsp;|&nbsp;<a href='o_k8s_taewa_3lite_.html'>o_k8s_taewa_3lite_.html</a>&nbsp;|&nbsp;<a href='o_k8s_taewa_3_.html'>o_k8s_taewa_3_.html</a>&nbsp;|&nbsp;<table><td></td><td></td><td></td>\n",
       "        <td>max:<br>691<br>min:<br>568<br>mean:<br>642<br></td>\n",
       "        <td>max:<br>6237<br>min:<br>4278<br>mean:<br>5898<br></td>\n",
       "        <td>max:<br>53<br>min:<br>51<br>mean:<br>52<br></td><tr><td rowspan='1'>1:  <a href='2022.03.15_09-26_asg_taewa_3_4b98'>2022.03.15_09-26_asg_taewa_3_4b98</a> </td></tr><tr><td>column1</td><td>column2</td><td>column3</td><td>Dura-tion s</td><td>QPS</td><td>CPU %</td></tr><tr><td><img alt='QPS_estimatedProcessedBytes.png' src='2022.03.15_09-26_asg_taewa_3_4b98/csv/QPS_estimatedProcessedBytes.png' /></td><td><img alt='QPS_cpuUtilization.png' src='2022.03.15_09-26_asg_taewa_3_4b98/csv/QPS_cpuUtilization.png' /></td><td><img alt='QPS_groupInServiceCapacity.png' src='2022.03.15_09-26_asg_taewa_3_4b98/csv/QPS_groupInServiceCapacity.png' /></td><td>[631, 677, 423]<br><b>577</b></td><td>[6234, 6221, 6091]<br><b>6183</td><td>[52, 51, 55]<br><b>53</b></td></tr><tr><td rowspan='1'>2:  <a href='2022.03.16_10-07_asg_taewa_3_4b98'>2022.03.16_10-07_asg_taewa_3_4b98</a> </td></tr><tr><td>column1</td><td>column2</td><td>column3</td><td>Dura-tion s</td><td>QPS</td><td>CPU %</td></tr><tr><td><img alt='QPS_estimatedProcessedBytes.png' src='2022.03.16_10-07_asg_taewa_3_4b98/csv/QPS_estimatedProcessedBytes.png' /></td><td><img alt='QPS_cpuUtilization.png' src='2022.03.16_10-07_asg_taewa_3_4b98/csv/QPS_cpuUtilization.png' /></td><td><img alt='QPS_groupInServiceCapacity.png' src='2022.03.16_10-07_asg_taewa_3_4b98/csv/QPS_groupInServiceCapacity.png' /></td><td>[695, 441]<br><b>568</b></td><td>[6161, 6177, 6135]<br><b>6158</td><td>[51, 51, 51]<br><b>51</b></td></tr><tr><td rowspan='1'>3:  <a href='2022.03.21_05-42_asg_taewa_3_54ef'>2022.03.21_05-42_asg_taewa_3_54ef</a> </td></tr><tr><td>column1</td><td>column2</td><td>column3</td><td>Dura-tion s</td><td>QPS</td><td>CPU %</td></tr><tr><td><img alt='QPS_estimatedProcessedBytes.png' src='2022.03.21_05-42_asg_taewa_3_54ef/csv/QPS_estimatedProcessedBytes.png' /></td><td><img alt='QPS_cpuUtilization.png' src='2022.03.21_05-42_asg_taewa_3_54ef/csv/QPS_cpuUtilization.png' /></td><td><img alt='QPS_groupInServiceCapacity.png' src='2022.03.21_05-42_asg_taewa_3_54ef/csv/QPS_groupInServiceCapacity.png' /></td><td>[704, 750, 616]<br><b>691</b></td><td>[6117, 6131, 6109]<br><b>6120</td><td>[51, 51, 51]<br><b>51</b></td></tr><tr><td rowspan='1'>4:  <a href='2022.03.23_07-15_asg_taewa_3_54ef'>2022.03.23_07-15_asg_taewa_3_54ef</a> </td></tr><tr><td>column1</td><td>column2</td><td>column3</td><td>Dura-tion s</td><td>QPS</td><td>CPU %</td></tr><tr><td><img alt='QPS_estimatedProcessedBytes.png' src='2022.03.23_07-15_asg_taewa_3_54ef/csv/QPS_estimatedProcessedBytes.png' /></td><td><img alt='QPS_cpuUtilization.png' src='2022.03.23_07-15_asg_taewa_3_54ef/csv/QPS_cpuUtilization.png' /></td><td><img alt='QPS_groupInServiceCapacity.png' src='2022.03.23_07-15_asg_taewa_3_54ef/csv/QPS_groupInServiceCapacity.png' /></td><td>[631, 678, 664]<br><b>658</b></td><td>[6147, 6209, 6149]<br><b>6169</td><td>[51, 51, 51]<br><b>52</b></td></tr><tr><td rowspan='1'>5:  <a href='2022.03.24_08-16_asg_taewa_3_54ef'>2022.03.24_08-16_asg_taewa_3_54ef</a> </td></tr><tr><td>column1</td><td>column2</td><td>column3</td><td>Dura-tion s</td><td>QPS</td><td>CPU %</td></tr><tr><td><img alt='QPS_estimatedProcessedBytes.png' src='2022.03.24_08-16_asg_taewa_3_54ef/csv/QPS_estimatedProcessedBytes.png' /></td><td><img alt='QPS_cpuUtilization.png' src='2022.03.24_08-16_asg_taewa_3_54ef/csv/QPS_cpuUtilization.png' /></td><td><img alt='QPS_groupInServiceCapacity.png' src='2022.03.24_08-16_asg_taewa_3_54ef/csv/QPS_groupInServiceCapacity.png' /></td><td>[649, 636, 683]<br><b>657</b></td><td>[5135, 5282, 5255]<br><b>5225</td><td>[51, 51, 51]<br><b>52</b></td></tr><tr><td rowspan='1'>6:  <a href='2022.03.24_22-34_asg_taewa_3_54ef'>2022.03.24_22-34_asg_taewa_3_54ef</a> </td></tr><tr><td>column1</td><td>column2</td><td>column3</td><td>Dura-tion s</td><td>QPS</td><td>CPU %</td></tr><tr><td><img alt='QPS_estimatedProcessedBytes.png' src='2022.03.24_22-34_asg_taewa_3_54ef/csv/QPS_estimatedProcessedBytes.png' /></td><td><img alt='QPS_cpuUtilization.png' src='2022.03.24_22-34_asg_taewa_3_54ef/csv/QPS_cpuUtilization.png' /></td><td><img alt='QPS_groupInServiceCapacity.png' src='2022.03.24_22-34_asg_taewa_3_54ef/csv/QPS_groupInServiceCapacity.png' /></td><td>[612, 598, 703]<br><b>638</b></td><td>[6279, 6206, 6226]<br><b>6237</td><td>[51, 55, 51]<br><b>53</b></td></tr><tr><td rowspan='1'>7:  <a href='2022.03.25_20-08_asg_taewa_3_54ef'>2022.03.25_20-08_asg_taewa_3_54ef</a> </td></tr><tr><td>column1</td><td>column2</td><td>column3</td><td>Dura-tion s</td><td>QPS</td><td>CPU %</td></tr><tr><td><img alt='QPS_estimatedProcessedBytes.png' src='2022.03.25_20-08_asg_taewa_3_54ef/csv/QPS_estimatedProcessedBytes.png' /></td><td><img alt='QPS_cpuUtilization.png' src='2022.03.25_20-08_asg_taewa_3_54ef/csv/QPS_cpuUtilization.png' /></td><td><img alt='QPS_groupInServiceCapacity.png' src='2022.03.25_20-08_asg_taewa_3_54ef/csv/QPS_groupInServiceCapacity.png' /></td><td>[652, 699, 685]<br><b>679</b></td><td>[6156, 6223, 6216]<br><b>6199</td><td>[51, 51, 52]<br><b>52</b></td></tr><tr><td rowspan='1'>8:  <a href='2022.03.29_08-43_asg_taewa_3_41cf'>2022.03.29_08-43_asg_taewa_3_41cf</a> </td></tr><tr><td>column1</td><td>column2</td><td>column3</td><td>Dura-tion s</td><td>QPS</td><td>CPU %</td></tr><tr><td><img alt='QPS_estimatedProcessedBytes.png' src='2022.03.29_08-43_asg_taewa_3_41cf/csv/QPS_estimatedProcessedBytes.png' /></td><td><img alt='QPS_cpuUtilization.png' src='2022.03.29_08-43_asg_taewa_3_41cf/csv/QPS_cpuUtilization.png' /></td><td><img alt='QPS_groupInServiceCapacity.png' src='2022.03.29_08-43_asg_taewa_3_41cf/csv/QPS_groupInServiceCapacity.png' /></td><td>[615, 602, 589]<br><b>603</b></td><td>[6172, 6195, 6163]<br><b>6177</td><td>[51, 52, 51]<br><b>52</b></td></tr><tr><td rowspan='1'>9:  <a href='2022.03.30_23-07_asg_taewa_3_41cf'>2022.03.30_23-07_asg_taewa_3_41cf</a> </td></tr><tr><td>column1</td><td>column2</td><td>column3</td><td>Dura-tion s</td><td>QPS</td><td>CPU %</td></tr><tr><td><img alt='QPS_estimatedProcessedBytes.png' src='2022.03.30_23-07_asg_taewa_3_41cf/csv/QPS_estimatedProcessedBytes.png' /></td><td><img alt='QPS_cpuUtilization.png' src='2022.03.30_23-07_asg_taewa_3_41cf/csv/QPS_cpuUtilization.png' /></td><td><img alt='QPS_groupInServiceCapacity.png' src='2022.03.30_23-07_asg_taewa_3_41cf/csv/QPS_groupInServiceCapacity.png' /></td><td>[671, 656, 642]<br><b>657</b></td><td>[6048, 6046, 5973]<br><b>6023</td><td>[51, 51, 51]<br><b>51</b></td></tr><tr><td rowspan='1'>10:  <a href='2022.04.05_01-03_asg_taewa_3_41cf'>2022.04.05_01-03_asg_taewa_3_41cf</a> </td></tr><tr><td>column1</td><td>column2</td><td>column3</td><td>Dura-tion s</td><td>QPS</td><td>CPU %</td></tr><tr><td><img alt='QPS_estimatedProcessedBytes.png' src='2022.04.05_01-03_asg_taewa_3_41cf/csv/QPS_estimatedProcessedBytes.png' /></td><td><img alt='QPS_cpuUtilization.png' src='2022.04.05_01-03_asg_taewa_3_41cf/csv/QPS_cpuUtilization.png' /></td><td><img alt='QPS_groupInServiceCapacity.png' src='2022.04.05_01-03_asg_taewa_3_41cf/csv/QPS_groupInServiceCapacity.png' /></td><td>[641, 628, 735]<br><b>669</b></td><td>[6135, 6173, 6033]<br><b>6114</td><td>[51, 51, 51]<br><b>52</b></td></tr><tr><td rowspan='1'>11:  <a href='2022.04.06_20-19_asg_taewa_3_41cf'>2022.04.06_20-19_asg_taewa_3_41cf</a> </td></tr><tr><td>column1</td><td>column2</td><td>column3</td><td>Dura-tion s</td><td>QPS</td><td>CPU %</td></tr><tr><td><img alt='QPS_estimatedProcessedBytes.png' src='2022.04.06_20-19_asg_taewa_3_41cf/csv/QPS_estimatedProcessedBytes.png' /></td><td><img alt='QPS_cpuUtilization.png' src='2022.04.06_20-19_asg_taewa_3_41cf/csv/QPS_cpuUtilization.png' /></td><td><img alt='QPS_groupInServiceCapacity.png' src='2022.04.06_20-19_asg_taewa_3_41cf/csv/QPS_groupInServiceCapacity.png' /></td><td>[659, 705, 632]<br><b>665</b></td><td>[4246, 4297, 4290]<br><b>4278</td><td>[51, 55, 50]<br><b>52</b></td></tr><tr><td rowspan='1'><b>skip skip skip: 2022.04.17_04-55_asg_taewa_3_41cf</b></td></tr><td></td><td></td><td></td>\n",
       "        <td>max:<br>691<br>min:<br>568<br>mean:<br>642<br></td>\n",
       "        <td>max:<br>6237<br>min:<br>4278<br>mean:<br>5898<br></td>\n",
       "        <td>max:<br>53<br>min:<br>51<br>mean:<br>52<br></td>"
      ],
      "text/plain": [
       "<IPython.core.display.HTML object>"
      ]
     },
     "metadata": {
      "isolated": true
     },
     "output_type": "display_data"
    }
   ],
   "source": [
    "#print(test._options_values)\n",
    "tests=[]\n",
    "if all.value:\n",
    "    tests=test._options_values;\n",
    "else:\n",
    "    tests.append(test.value)\n",
    "\n",
    "for tst in tests:\n",
    "    search=f'*{date_filter.value}*{tst}*'\n",
    "    nw = datetime.datetime.now()\n",
    "    count=0\n",
    "    iList=[]\n",
    "    avg_qps_list=[]\n",
    "    avg_cpu_list=[]\n",
    "    avg_duration_list=[]\n",
    "\n",
    "    for i in p.glob(search):\n",
    "        count+=1\n",
    "        dir = i.name\n",
    "        if not (i/\"csv\").exists():\n",
    "            line = f\"<tr><td rowspan='1'><b>skip skip skip: {dir}</b></td></tr>\"\n",
    "            iList.append(line)\n",
    "            continue\n",
    "        ##================ get json Fortio data ================\n",
    "        #print(i)\n",
    "        json_paths = (i/\"csv\").glob('*.json')\n",
    "        fortio_path=list(json_paths)[0]\n",
    "\n",
    "        df = pd.read_json(fortio_path, lines=True)\n",
    "        df['StartTime'] = pd.to_datetime(df['StartTime'])\n",
    "        df.set_index(['StartTime'],inplace=True)\n",
    "\n",
    "        #qps= df[[\"ActualQPS\",\"NumThreads\"]]\n",
    "        #mydf = df[df['Labels'] == 'k8s_apache_3-performance-1']\n",
    "\n",
    "        # get performance QPS\n",
    "        perf_df = df[df['Labels'].str.contains('performance-[1-3]', regex=True)]\n",
    "        #perf_data=perf_df.ActualQPS\n",
    "        #qps_lst=list(map(int,perf_data))\n",
    "        qps_lst=list(perf_df.ActualQPS)\n",
    "        avg_qps=np.mean(qps_lst)\n",
    "        avg_qps_list.append(avg_qps)\n",
    "\n",
    "        # get scaling start times\n",
    "        scaling_starts_df = df[df['Labels'].str.contains('scaling-.-1$', regex=True)]\n",
    "        #print(df)\n",
    "        #scaling_data=scaling_df.ActualQPS\n",
    "        #print(scaling_df['Labels'])\n",
    "        #print(perf_times.iloc[0])\n",
    "\n",
    "        ## ================ PERFORMANCE CloudWatch data ================\n",
    "        aws_metric1=\"cpuUtilization\"\n",
    "        csv_paths = (i/\"csv\").glob('*'+aws_metric1+'.csv')\n",
    "        c_path=list(csv_paths)[0]\n",
    "        perfomance_cpu_list=[]\n",
    "        #print(c_path)\n",
    "        for index,value in perf_df.iterrows():\n",
    "            perf_start=index#pd.to_datetime(stime)\n",
    "            #print(perf_start)\n",
    "            mdf = pd.read_csv(c_path, parse_dates=['datetime'], index_col=\"datetime\")\n",
    "            # get 4 max:\n",
    "            # mmdf=mdf[perf_start:perf_start+ pd.Timedelta(5, \"m\")]\n",
    "            # mmmdf=mmdf.nlargest(4, aws_metric1).sort_index()\n",
    "            # get 3 mid:\n",
    "            mmmdf=mdf[perf_start+ pd.Timedelta(1, \"m\"):perf_start + pd.Timedelta(4, \"m\")]\n",
    "            cpu_list=list(mmmdf[aws_metric1])\n",
    "            average_cpu=np.mean(cpu_list)\n",
    "            perfomance_cpu_list.append(average_cpu)\n",
    "            #print(list(mmmdf.cpuUtilization))\n",
    "        avg_cpu=np.mean(perfomance_cpu_list)\n",
    "        avg_cpu_list.append(avg_cpu)\n",
    "\n",
    "        ## ================ SCALING CloudWatch data ================\n",
    "        aws_metric2=\"groupInServiceCapacity\"\n",
    "        scaling_durations=[]\n",
    "        csv_paths2 = (i/\"csv\").glob('*'+aws_metric2+'.csv')\n",
    "        c_path2=list(csv_paths2)[0]\n",
    "        #print(c_path2)\n",
    "        for index,value in scaling_starts_df.iterrows():\n",
    "            scale_start=index\n",
    "            #print(scale_start)\n",
    "            cwdf2 = pd.read_csv(c_path2, parse_dates=['datetime'], index_col=\"datetime\")\n",
    "            ccwdf2=cwdf2[scale_start:scale_start+ pd.Timedelta(14, \"m\")]\n",
    "            max_scaled=ccwdf2[ccwdf2[aws_metric2].ge(3)] #.index[0]\n",
    "\n",
    "            # print(ccwdf2.head(6))\n",
    "            # print(max_scaled.head(2))\n",
    "\n",
    "            if max_scaled.size > 0:\n",
    "                cw_reach_max_time=max_scaled.index[0]\n",
    "                duration = cw_reach_max_time - index\n",
    "                duration_in_s = duration.total_seconds()\n",
    "                #minutes = divmod(duration_in_s, 60)[0]\n",
    "                #print(reach_max_time)\n",
    "                #s = scaling_starts_df.index.get_loc(cw_reach_max_time, method='nearest')\n",
    "                #max_minute=scaling_starts_df[reach_max_time]\n",
    "                \n",
    "                # print(index)\n",
    "                # print(cw_reach_max_time)\n",
    "                scaling_durations.append(duration_in_s)\n",
    "            else:\n",
    "                duration_in_s = 0\n",
    "        avg_duration=np.mean(scaling_durations)\n",
    "        avg_duration_list.append(avg_duration)\n",
    "\n",
    "        ##================ generate rows ================\n",
    "        line = \"\"\n",
    "        line = f\"<tr><td rowspan='1'>{count}:  <a href='{i.name}'>{dir}</a> </td></tr><tr><td>column1</td><td>column2</td><td>column3</td><td>Dura-tion s</td><td>QPS</td><td>CPU %</td></tr><tr>\"\n",
    "        ####====== Images\n",
    "        for y in graphs:\n",
    "            #print(i.name)\n",
    "            img=f'{i.name}/csv/{y}'\n",
    "            line+=f\"<td><img alt='{y}' src='{img}' /></td>\"\n",
    "        ####====== Data\n",
    "        \n",
    "        #data=str(lst)[1:-1].replace(\", \", \"<br>\")\n",
    "        line+=f\"<td>{list(map(int,scaling_durations))}<br><b>{avg_duration:.0f}</b></td>\"\n",
    "        line+=f\"<td>{list(map(int,qps_lst))}<br><b>{avg_qps:.0f}</td>\"\n",
    "        line+=f\"<td>{list(map(int,perfomance_cpu_list))}<br><b>{avg_cpu:.0f}</b></td>\"\n",
    "        line+=\"</tr>\"\n",
    "        #line+=\"</tr><tr><td rowspan='1'>~~~</td></tr>\"\n",
    "        iList.append(line)\n",
    "    \n",
    "    total=f\"\"\"<td></td><td></td><td></td>\n",
    "        <td>max:<br>{max(avg_duration_list):.0f}<br>min:<br>{min(avg_duration_list):.0f}<br>mean:<br>{np.mean(avg_duration_list):.0f}<br></td>\n",
    "        <td>max:<br>{max(avg_qps_list):.0f}<br>min:<br>{min(avg_qps_list):.0f}<br>mean:<br>{np.mean(avg_qps_list):.0f}<br></td>\n",
    "        <td>max:<br>{max(avg_cpu_list):.0f}<br>min:<br>{min(avg_cpu_list):.0f}<br>mean:<br>{np.mean(avg_cpu_list):.0f}<br></td>\"\"\"\n",
    "    iList.append(total)\n",
    "    iList.insert(0,total)\n",
    "    imagesList = ''.join(iList)\n",
    "\n",
    "    ##================ save HTML ================\n",
    "\n",
    "    html_path=p/f'o_{tst}.html'\n",
    "    header=f\"<head><title>{tst}</title>\"\n",
    "    header+=\"<style>table, th, td {border: 1px solid black;} body {font: 17px Arial, sans-serif;}</style></head>\"\n",
    "    header+=f\"date: {nw}<br><h2>{tst}</h2><br>\"\n",
    "    for h in p.glob('*.html'):\n",
    "        if h.name.find(f'{tst}')>0:\n",
    "            header+=\">\"\n",
    "        header+=f\"<a href='{h.name}'>{h.name}</a>&nbsp;|&nbsp;\"\n",
    "    header+=\"<table>\"\n",
    "    footer=\"</table>\"\n",
    "\n",
    "    page= header + imagesList\n",
    "    a = HTML(page)\n",
    "    html_src = a.data\n",
    "    with open(html_path, 'w') as f:\n",
    "        f.write(html_src)\n",
    "    display(a, metadata=dict(isolated=True))"
   ]
  }
 ],
 "metadata": {
  "interpreter": {
   "hash": "25b7e89b1537daa2118c7b94597c9101415ef6880ba8947cb00ebe6160bb5a7f"
  },
  "kernelspec": {
   "display_name": "Python 3 (ipykernel)",
   "language": "python",
   "name": "python3"
  },
  "language_info": {
   "codemirror_mode": {
    "name": "ipython",
    "version": 3
   },
   "file_extension": ".py",
   "mimetype": "text/x-python",
   "name": "python",
   "nbconvert_exporter": "python",
   "pygments_lexer": "ipython3",
   "version": "3.10.1"
  }
 },
 "nbformat": 4,
 "nbformat_minor": 2
}
